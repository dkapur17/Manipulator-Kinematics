{
 "cells": [
  {
   "cell_type": "markdown",
   "metadata": {},
   "source": [
    "# Forward Kinematics"
   ]
  },
  {
   "cell_type": "code",
   "execution_count": 3,
   "metadata": {
    "ExecuteTime": {
     "end_time": "2021-08-10T20:19:54.957881Z",
     "start_time": "2021-08-10T20:19:54.954952Z"
    }
   },
   "outputs": [],
   "source": [
    "import numpy as np\n",
    "import matplotlib.pyplot as plt\n",
    "import vector\n",
    "from ipywidgets import interact, interactive, fixed, interact_manual\n",
    "import ipywidgets as widgets"
   ]
  },
  {
   "cell_type": "code",
   "execution_count": 46,
   "metadata": {
    "ExecuteTime": {
     "end_time": "2021-08-10T21:04:53.412097Z",
     "start_time": "2021-08-10T21:04:53.403226Z"
    }
   },
   "outputs": [],
   "source": [
    "class Segment:\n",
    "    def __init__(self, x, y, l, theta, color, parent=None):\n",
    "        self.a = vector.obj(x=x, y=y)\n",
    "        self.l = l\n",
    "        self.theta = theta\n",
    "        self.parent = parent\n",
    "        self.color = color\n",
    "        self.calculate_b()\n",
    "    \n",
    "    @classmethod\n",
    "    def with_parent(cls, parent, l, theta, color):\n",
    "        return cls(parent.b.x, parent.b.y, l, theta,color, parent)\n",
    "    \n",
    "    def calculate_b(self):\n",
    "        dx = self.l * round(np.cos(self.theta),2)\n",
    "        dy = self.l * round(np.sin(self.theta),2)\n",
    "        self.b = vector.obj(x=self.a.x+dx, y=self.a.y+dy)\n",
    "    \n",
    "    def update(self, theta):\n",
    "        self.theta = theta\n",
    "        if(self.parent != None):\n",
    "            self.a = vector.obj(x=self.parent.b.x, y=self.parent.b.y)\n",
    "            self.theta += self.parent.theta\n",
    "        self.calculate_b()\n",
    "        self.show()\n",
    "    \n",
    "    def show(self):\n",
    "        x_vals = [self.a.x, self.b.x]\n",
    "        y_vals = [self.a.y, self.b.y]\n",
    "        plt.plot(x_vals, y_vals, f'{self.color}o', linestyle=\"-\", linewidth=4)"
   ]
  },
  {
   "cell_type": "code",
   "execution_count": 57,
   "metadata": {
    "ExecuteTime": {
     "end_time": "2021-08-10T21:09:36.691795Z",
     "start_time": "2021-08-10T21:09:36.655571Z"
    }
   },
   "outputs": [],
   "source": [
    "N_LINKS = 3\n",
    "\n",
    "robot = [Segment(0, 0, 2, 0, 'r')]\n",
    "for i in range(1, N_LINKS):\n",
    "    robot.append(Segment.with_parent(robot[i-1], 2, 0, 'r'))\n",
    "\n",
    "theta_sliders = [widgets.FloatSlider(value=0,min=-np.pi,max=np.pi,step=0.1,description=f'Theta_{i}') for i in range(len(robot))]\n",
    "theta = {f'theta_{i}':slider for i, slider in enumerate(theta_sliders)}"
   ]
  },
  {
   "cell_type": "code",
   "execution_count": 58,
   "metadata": {
    "ExecuteTime": {
     "end_time": "2021-08-10T21:09:37.024231Z",
     "start_time": "2021-08-10T21:09:36.867014Z"
    }
   },
   "outputs": [
    {
     "data": {
      "application/vnd.jupyter.widget-view+json": {
       "model_id": "bd0745af790545658a86035a9c12dfce",
       "version_major": 2,
       "version_minor": 0
      },
      "text/plain": [
       "interactive(children=(FloatSlider(value=0.0, description='Theta_0', max=3.141592653589793, min=-3.141592653589…"
      ]
     },
     "metadata": {},
     "output_type": "display_data"
    }
   ],
   "source": [
    "@interact(**theta)\n",
    "def update(**kwargs):\n",
    "    plt.figure(figsize=(7,7))\n",
    "    plt.xlim((-6,6))\n",
    "    plt.ylim((-6,6))\n",
    "    for i in range(-6, 6):\n",
    "        plt.plot([i,i],[-6,6], linewidth=0.1, color='black' )\n",
    "        plt.plot([-6,6],[i,i], linewidth=0.1, color='black' )\n",
    "    plt.plot([0,0],[-6,6], linewidth=0.5, color='black' )\n",
    "    plt.plot([-6,6],[0,0], linewidth=0.5, color='black' )\n",
    "    for i, theta_i in enumerate(kwargs.values()):\n",
    "        robot[i].update(theta_i)"
   ]
  }
 ],
 "metadata": {
  "kernelspec": {
   "display_name": "Python 3.7.7 64-bit",
   "language": "python",
   "name": "python37764bit46343f44aa8e44e8811c7585d7a24a89"
  },
  "toc": {
   "base_numbering": 1,
   "nav_menu": {},
   "number_sections": true,
   "sideBar": true,
   "skip_h1_title": false,
   "title_cell": "Table of Contents",
   "title_sidebar": "Contents",
   "toc_cell": false,
   "toc_position": {},
   "toc_section_display": true,
   "toc_window_display": false
  },
  "varInspector": {
   "cols": {
    "lenName": 16,
    "lenType": 16,
    "lenVar": 40
   },
   "kernels_config": {
    "python": {
     "delete_cmd_postfix": "",
     "delete_cmd_prefix": "del ",
     "library": "var_list.py",
     "varRefreshCmd": "print(var_dic_list())"
    },
    "r": {
     "delete_cmd_postfix": ") ",
     "delete_cmd_prefix": "rm(",
     "library": "var_list.r",
     "varRefreshCmd": "cat(var_dic_list()) "
    }
   },
   "types_to_exclude": [
    "module",
    "function",
    "builtin_function_or_method",
    "instance",
    "_Feature"
   ],
   "window_display": false
  }
 },
 "nbformat": 4,
 "nbformat_minor": 4
}
