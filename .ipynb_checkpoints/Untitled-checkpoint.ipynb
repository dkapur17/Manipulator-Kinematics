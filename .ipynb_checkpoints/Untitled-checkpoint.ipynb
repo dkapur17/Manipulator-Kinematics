{
 "cells": [
  {
   "cell_type": "markdown",
   "metadata": {},
   "source": [
    "# Forward Kinematics"
   ]
  },
  {
   "cell_type": "code",
   "execution_count": 11,
   "metadata": {
    "ExecuteTime": {
     "end_time": "2021-08-10T12:00:58.222288Z",
     "start_time": "2021-08-10T12:00:58.219726Z"
    }
   },
   "outputs": [],
   "source": [
    "import numpy as np\n",
    "import matplotlib.pyplot as plt\n",
    "import vector"
   ]
  },
  {
   "cell_type": "code",
   "execution_count": 33,
   "metadata": {
    "ExecuteTime": {
     "end_time": "2021-08-10T12:07:25.553848Z",
     "start_time": "2021-08-10T12:07:25.547059Z"
    }
   },
   "outputs": [],
   "source": [
    "class Segment:\n",
    "    def __init__(self, x, y, l, theta):\n",
    "        self.a = vector.obj(x=x, y=y)\n",
    "        self.l = l\n",
    "        self.theta = theta\n",
    "        l1.calculate_b()\n",
    "    \n",
    "    def calculate_b(self):\n",
    "        dx = self.l * round(np.cos(self.theta),2)\n",
    "        dy = self.l * round(np.sin(self.theta),2)\n",
    "        self.b = vector.obj(x=self.a.x+dx, y=self.a.y+dy)\n",
    "    \n",
    "    def show(self):\n",
    "        x_vals = [self.a.x, self.b.x]\n",
    "        y_vals = [self.a.y, self.b.y]\n",
    "        plt.plot(x_vals, y_vals, 'bo', linestyle=\"-\")"
   ]
  },
  {
   "cell_type": "code",
   "execution_count": 34,
   "metadata": {
    "ExecuteTime": {
     "end_time": "2021-08-10T12:07:26.026925Z",
     "start_time": "2021-08-10T12:07:25.926189Z"
    }
   },
   "outputs": [
    {
     "name": "stdout",
     "output_type": "stream",
     "text": [
      "vector.obj(x=0.0, y=10.0)\n"
     ]
    },
    {
     "data": {
      "image/png": "[encoded data removed]",
      "text/plain": [
       "<Figure size 432x288 with 1 Axes>"
      ]
     },
     "metadata": {
      "needs_background": "light"
     },
     "output_type": "display_data"
    }
   ],
   "source": [
    "l1 = Segment(0, 0, 10, np.pi/2)\n",
    "l1.show()"
   ]
  },
  {
   "cell_type": "code",
   "execution_count": null,
   "metadata": {},
   "outputs": [],
   "source": []
  }
 ],
 "metadata": {
  "kernelspec": {
   "display_name": "Python 3.7.7 64-bit",
   "language": "python",
   "name": "python37764bit46343f44aa8e44e8811c7585d7a24a89"
  },
  "language_info": {
   "codemirror_mode": {
    "name": "ipython",
    "version": 3
   },
   "file_extension": ".py",
   "mimetype": "text/x-python",
   "name": "python",
   "nbconvert_exporter": "python",
   "pygments_lexer": "ipython3",
   "version": "3.7.7"
  },
  "toc": {
   "base_numbering": 1,
   "nav_menu": {},
   "number_sections": true,
   "sideBar": true,
   "skip_h1_title": false,
   "title_cell": "Table of Contents",
   "title_sidebar": "Contents",
   "toc_cell": false,
   "toc_position": {},
   "toc_section_display": true,
   "toc_window_display": false
  },
  "varInspector": {
   "cols": {
    "lenName": 16,
    "lenType": 16,
    "lenVar": 40
   },
   "kernels_config": {
    "python": {
     "delete_cmd_postfix": "",
     "delete_cmd_prefix": "del ",
     "library": "var_list.py",
     "varRefreshCmd": "print(var_dic_list())"
    },
    "r": {
     "delete_cmd_postfix": ") ",
     "delete_cmd_prefix": "rm(",
     "library": "var_list.r",
     "varRefreshCmd": "cat(var_dic_list()) "
    }
   },
   "types_to_exclude": [
    "module",
    "function",
    "builtin_function_or_method",
    "instance",
    "_Feature"
   ],
   "window_display": false
  }
 },
 "nbformat": 4,
 "nbformat_minor": 4
}
