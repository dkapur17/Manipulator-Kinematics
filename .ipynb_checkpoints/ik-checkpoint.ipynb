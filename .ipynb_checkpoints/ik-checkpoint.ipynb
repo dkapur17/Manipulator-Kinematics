{
 "cells": [
  {
   "cell_type": "markdown",
   "id": "4624b8dc",
   "metadata": {},
   "source": [
    "# Inverse Kinematics"
   ]
  },
  {
   "cell_type": "code",
   "execution_count": 1,
   "id": "b0fb33c1",
   "metadata": {
    "ExecuteTime": {
     "end_time": "2021-10-10T14:35:14.334054Z",
     "start_time": "2021-10-10T14:35:03.469676Z"
    }
   },
   "outputs": [],
   "source": [
    "import numpy as np\n",
    "import matplotlib.pyplot as plt\n",
    "import vector\n",
    "from ipywidgets import interact, interactive, fixed, interact_manual\n",
    "import ipywidgets as widgets"
   ]
  },
  {
   "cell_type": "code",
   "execution_count": 2,
   "id": "9ea67599",
   "metadata": {
    "ExecuteTime": {
     "end_time": "2021-10-10T14:35:14.364795Z",
     "start_time": "2021-10-10T14:35:14.351774Z"
    }
   },
   "outputs": [],
   "source": [
    "class Segment:\n",
    "    def __init__(self, x, y, l, theta, color, parent=None):\n",
    "        self.a = vector.obj(x=x, y=y)\n",
    "        self.l = l\n",
    "        self.theta = theta\n",
    "        self.parent = parent\n",
    "        self.color = color\n",
    "        self.calculate_b()\n",
    "        \n",
    "    @classmethod\n",
    "    def with_parent(cls, parent, l, theta, color):\n",
    "        return cls(parent.b.x, parent.b.y, l, theta, color, parent)\n",
    "        \n",
    "    def calculate_b(self):\n",
    "        dx = self.l * round(np.cos(self.theta), 2)\n",
    "        dy = self.l * round(np.sin(self.theta), 2)\n",
    "        self.b = vector.obj(x=self.a.x + dx, y=self.a.y + dy)\n",
    "    \n",
    "    def update(self, target_x, target_y, base=None):\n",
    "        target = vector.obj(x = target_x, y=target_y)\n",
    "        direction = target - self.a\n",
    "        self.theta = np.arctan2(direction.y, direction.x)\n",
    "        direction = direction / direction.rho\n",
    "        direction = direction.scale(-self.l)\n",
    "        self.a = target + direction\n",
    "        self.calculate_b()\n",
    "        return self.theta - (self.parent.theta if self.parent!= None else 0)\n",
    "    \n",
    "    def set_base(self, base):\n",
    "        self.a = base\n",
    "        self.calculate_b()\n",
    "    \n",
    "    def show(self):\n",
    "        x_vals = [self.a.x, self.b.x]\n",
    "        y_vals = [self.a.y, self.b.y]\n",
    "        plt.plot(x_vals, y_vals, f'{self.color}o', linestyle=\"-\", linewidth=4)        "
   ]
  },
  {
   "cell_type": "code",
   "execution_count": 3,
   "id": "dca08053",
   "metadata": {
    "ExecuteTime": {
     "end_time": "2021-10-10T14:35:15.378604Z",
     "start_time": "2021-10-10T14:35:14.381947Z"
    }
   },
   "outputs": [],
   "source": [
    "# Number of Links\n",
    "N_LINKS = 2\n",
    "\n",
    "# {length, color}\n",
    "links_config = [{'l': 3, 'c': 'r'}, {'l': 2, 'c':'g'}, {'l':2, 'c':'b'}]\n",
    "\n",
    "assert(len(links_config) >= N_LINKS)\n",
    "\n",
    "robot = [Segment(0, 0, links_config[0]['l'], 0, links_config[0]['c'])]\n",
    "\n",
    "for i in range(1, N_LINKS):\n",
    "    robot.append(Segment.with_parent(robot[i-1], links_config[i]['l'], 0, links_config[i]['c']))\n",
    "    \n",
    "base = vector.obj(x=0, y=0)"
   ]
  },
  {
   "cell_type": "code",
   "execution_count": 4,
   "id": "f34ca9b0",
   "metadata": {
    "ExecuteTime": {
     "end_time": "2021-10-10T14:35:19.674484Z",
     "start_time": "2021-10-10T14:35:15.396173Z"
    }
   },
   "outputs": [
    {
     "data": {
      "application/vnd.jupyter.widget-view+json": {
       "model_id": "ed1ef9cf26574bd0b26c65fdc736a3db",
       "version_major": 2,
       "version_minor": 0
      },
      "text/plain": [
       "interactive(children=(FloatSlider(value=3.0, description='target_x', max=6.0, min=-6.0), FloatSlider(value=3.0…"
      ]
     },
     "metadata": {},
     "output_type": "display_data"
    }
   ],
   "source": [
    "x = 3.0\n",
    "y = 3.0\n",
    "\n",
    "@interact(target_x=widgets.FloatSlider(value=x, min=-6, max=6), target_y=widgets.FloatSlider(value=y, min=-6, max=6))\n",
    "def inverse_kinematics(target_x, target_y):\n",
    "    plt.figure(figsize=(5,5))\n",
    "    plt.xlim((-6,6))\n",
    "    plt.ylim((-6,6))\n",
    "    for i in range(-6, 6):\n",
    "        plt.plot([i,i],[-6,6], linewidth=0.1, color='black' )\n",
    "        plt.plot([-6,6],[i,i], linewidth=0.1, color='black' )\n",
    "    plt.plot([0,0],[-6,6], linewidth=0.5, color='black' )\n",
    "    plt.plot([-6,6],[0,0], linewidth=0.5, color='black' )\n",
    "    plt.title(f\"{len(robot)}R Arm IK\")\n",
    "    \n",
    "    # Move link to targets\n",
    "    theta = []\n",
    "    for i in range(N_LINKS)[::-1]:\n",
    "        if i == N_LINKS-1:\n",
    "            angle=robot[i].update(target_x, target_y)\n",
    "        else:\n",
    "            angle=robot[i].update(robot[i+1].a.x, robot[i+1].a.y)\n",
    "        theta.append(angle)\n",
    "    theta = theta[::-1]\n",
    "    # Rebase links\n",
    "    for i in range(N_LINKS):\n",
    "        if i == 0:\n",
    "            robot[i].set_base(base)\n",
    "        else:\n",
    "            robot[i].set_base(robot[i-1].b)\n",
    "    \n",
    "    # Render links\n",
    "    for link in robot:\n",
    "        link.show()\n",
    "    plt.scatter(target_x, target_y, zorder=10)\n",
    "    plt.legend([round(x*180/np.pi,2) for x in theta])"
   ]
  },
  {
   "cell_type": "code",
   "execution_count": null,
   "id": "931eceac",
   "metadata": {},
   "outputs": [],
   "source": []
  }
 ],
 "metadata": {
  "interpreter": {
   "hash": "82efc473538fbc80cad5c2dbbb4d8a5a85d956943a0cc23ad41c96ef7203ea3d"
  },
  "kernelspec": {
   "display_name": "Python 3",
   "language": "python",
   "name": "python3"
  },
  "language_info": {
   "codemirror_mode": {
    "name": "ipython",
    "version": 3
   },
   "file_extension": ".py",
   "mimetype": "text/x-python",
   "name": "python",
   "nbconvert_exporter": "python",
   "pygments_lexer": "ipython3",
   "version": "3.7.10"
  },
  "toc": {
   "base_numbering": 1,
   "nav_menu": {},
   "number_sections": true,
   "sideBar": true,
   "skip_h1_title": false,
   "title_cell": "Table of Contents",
   "title_sidebar": "Contents",
   "toc_cell": false,
   "toc_position": {},
   "toc_section_display": true,
   "toc_window_display": false
  },
  "varInspector": {
   "cols": {
    "lenName": 16,
    "lenType": 16,
    "lenVar": 40
   },
   "kernels_config": {
    "python": {
     "delete_cmd_postfix": "",
     "delete_cmd_prefix": "del ",
     "library": "var_list.py",
     "varRefreshCmd": "print(var_dic_list())"
    },
    "r": {
     "delete_cmd_postfix": ") ",
     "delete_cmd_prefix": "rm(",
     "library": "var_list.r",
     "varRefreshCmd": "cat(var_dic_list()) "
    }
   },
   "types_to_exclude": [
    "module",
    "function",
    "builtin_function_or_method",
    "instance",
    "_Feature"
   ],
   "window_display": false
  }
 },
 "nbformat": 4,
 "nbformat_minor": 5
}
