{
 "cells": [
  {
   "cell_type": "markdown",
   "metadata": {},
   "source": [
    "# Forward Kinematics"
   ]
  },
  {
   "cell_type": "code",
   "execution_count": 1,
   "metadata": {
    "ExecuteTime": {
     "end_time": "2021-10-10T14:36:42.914583Z",
     "start_time": "2021-10-10T14:36:42.595356Z"
    }
   },
   "outputs": [],
   "source": [
    "import numpy as np\n",
    "import matplotlib.pyplot as plt\n",
    "import vector\n",
    "from ipywidgets import interact, interactive, fixed, interact_manual\n",
    "import ipywidgets as widgets"
   ]
  },
  {
   "cell_type": "code",
   "execution_count": 2,
   "metadata": {
    "ExecuteTime": {
     "end_time": "2021-10-10T14:36:42.974622Z",
     "start_time": "2021-10-10T14:36:42.949592Z"
    }
   },
   "outputs": [],
   "source": [
    "class Segment:\n",
    "    def __init__(self, x, y, l, theta, color, parent=None):\n",
    "        self.a = vector.obj(x=x, y=y)\n",
    "        self.l = l\n",
    "        self.theta = theta\n",
    "        self.parent = parent\n",
    "        self.color = color\n",
    "        self.calculate_b()\n",
    "    \n",
    "    @classmethod\n",
    "    def with_parent(cls, parent, l, theta, color):\n",
    "        return cls(parent.b.x, parent.b.y, l, theta,color, parent)\n",
    "    \n",
    "    def calculate_b(self):\n",
    "        dx = self.l * round(np.cos(self.theta),2)\n",
    "        dy = self.l * round(np.sin(self.theta),2)\n",
    "        self.b = vector.obj(x=self.a.x+dx, y=self.a.y+dy)\n",
    "    \n",
    "    def update(self, theta):\n",
    "        self.theta = theta\n",
    "        if(self.parent != None):\n",
    "            self.a = vector.obj(x=self.parent.b.x, y=self.parent.b.y)\n",
    "            self.theta += self.parent.theta\n",
    "        self.calculate_b()\n",
    "    \n",
    "    def show(self):\n",
    "        x_vals = [self.a.x, self.b.x]\n",
    "        y_vals = [self.a.y, self.b.y]\n",
    "        plt.plot(x_vals, y_vals, f'{self.color}o', linestyle=\"-\", linewidth=4)"
   ]
  },
  {
   "cell_type": "code",
   "execution_count": 3,
   "metadata": {
    "ExecuteTime": {
     "end_time": "2021-10-10T14:36:43.079837Z",
     "start_time": "2021-10-10T14:36:43.037769Z"
    }
   },
   "outputs": [],
   "source": [
    "# Number of links\n",
    "N_LINKS = 2\n",
    "\n",
    "# {length, color}\n",
    "links_config = [{'l': 3, 'c': 'r'}, {'l': 2, 'c':'g'}, {'l':2, 'c':'b'}]\n",
    "\n",
    "assert(len(links_config) >= N_LINKS)\n",
    "\n",
    "robot = [Segment(0, 0, links_config[0]['l'], 0, links_config[0]['c'])]\n",
    "for i in range(1, N_LINKS):\n",
    "    robot.append(Segment.with_parent(robot[i-1], links_config[i]['l'], 0, links_config[i]['c']))\n",
    "\n",
    "theta_sliders = [widgets.IntSlider(value=0,min=-180,max=180,step=1,description=f'Theta_{i}') for i in range(len(robot))]\n",
    "theta = {f'theta_{i}':slider for i, slider in enumerate(theta_sliders)}"
   ]
  },
  {
   "cell_type": "code",
   "execution_count": 4,
   "metadata": {
    "ExecuteTime": {
     "end_time": "2021-10-10T14:36:44.536669Z",
     "start_time": "2021-10-10T14:36:44.277547Z"
    }
   },
   "outputs": [
    {
     "data": {
      "application/vnd.jupyter.widget-view+json": {
       "model_id": "9c77fcefbe31433fad04eb4c401acee4",
       "version_major": 2,
       "version_minor": 0
      },
      "text/plain": [
       "interactive(children=(IntSlider(value=0, description='Theta_0', max=180, min=-180), IntSlider(value=0, descrip…"
      ]
     },
     "metadata": {},
     "output_type": "display_data"
    }
   ],
   "source": [
    "@interact(**theta)\n",
    "def forward_kinematics(**kwargs):\n",
    "    plt.figure(figsize=(5,5))\n",
    "    plt.xlim((-6,6))\n",
    "    plt.ylim((-6,6))\n",
    "    for i in range(-6, 6):\n",
    "        plt.plot([i,i],[-6,6], linewidth=0.1, color='black' )\n",
    "        plt.plot([-6,6],[i,i], linewidth=0.1, color='black' )\n",
    "    plt.plot([0,0],[-6,6], linewidth=0.5, color='black' )\n",
    "    plt.plot([-6,6],[0,0], linewidth=0.5, color='black' )\n",
    "    plt.title(f\"{len(robot)}R Arm FK\")\n",
    "    for i, theta_i in enumerate(kwargs.values()):\n",
    "        theta_i = theta_i * np.pi/180\n",
    "        robot[i].update(theta_i)\n",
    "    for link in robot:\n",
    "        link.show()\n",
    "    plt.legend([f\"{robot[-1].b.x:.2f}, {robot[-1].b.y:.2f}\"])"
   ]
  },
  {
   "cell_type": "code",
   "execution_count": null,
   "metadata": {},
   "outputs": [],
   "source": []
  }
 ],
 "metadata": {
  "interpreter": {
   "hash": "82efc473538fbc80cad5c2dbbb4d8a5a85d956943a0cc23ad41c96ef7203ea3d"
  },
  "kernelspec": {
   "display_name": "Python 3",
   "language": "python",
   "name": "python3"
  },
  "language_info": {
   "codemirror_mode": {
    "name": "ipython",
    "version": 3
   },
   "file_extension": ".py",
   "mimetype": "text/x-python",
   "name": "python",
   "nbconvert_exporter": "python",
   "pygments_lexer": "ipython3",
   "version": "3.7.10"
  },
  "toc": {
   "base_numbering": 1,
   "nav_menu": {},
   "number_sections": true,
   "sideBar": true,
   "skip_h1_title": false,
   "title_cell": "Table of Contents",
   "title_sidebar": "Contents",
   "toc_cell": false,
   "toc_position": {},
   "toc_section_display": true,
   "toc_window_display": false
  },
  "varInspector": {
   "cols": {
    "lenName": 16,
    "lenType": 16,
    "lenVar": 40
   },
   "kernels_config": {
    "python": {
     "delete_cmd_postfix": "",
     "delete_cmd_prefix": "del ",
     "library": "var_list.py",
     "varRefreshCmd": "print(var_dic_list())"
    },
    "r": {
     "delete_cmd_postfix": ") ",
     "delete_cmd_prefix": "rm(",
     "library": "var_list.r",
     "varRefreshCmd": "cat(var_dic_list()) "
    }
   },
   "types_to_exclude": [
    "module",
    "function",
    "builtin_function_or_method",
    "instance",
    "_Feature"
   ],
   "window_display": false
  }
 },
 "nbformat": 4,
 "nbformat_minor": 4
}
